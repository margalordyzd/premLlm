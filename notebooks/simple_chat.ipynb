{
 "cells": [
  {
   "cell_type": "code",
   "execution_count": 20,
   "id": "1b4a3da4",
   "metadata": {},
   "outputs": [],
   "source": [
    "from mlx_lm import load, generate"
   ]
  },
  {
   "cell_type": "code",
   "execution_count": 21,
   "id": "60038e6d",
   "metadata": {},
   "outputs": [
    {
     "name": "stdout",
     "output_type": "stream",
     "text": [
      "Loading model...\n"
     ]
    },
    {
     "name": "stderr",
     "output_type": "stream",
     "text": [
      "Fetching 8 files: 100%|██████████| 8/8 [00:00<00:00, 128561.04it/s]\n"
     ]
    }
   ],
   "source": [
    "print(\"Loading model...\")\n",
    "model, tokenizer = load(\"mlx-community/gemma-3-1b-it-qat-6bit\")"
   ]
  },
  {
   "cell_type": "code",
   "execution_count": 26,
   "id": "37170ac8",
   "metadata": {},
   "outputs": [],
   "source": [
    "prompt = \"how to cook pasta?\"\n",
    "\n",
    "if tokenizer.chat_template is not None:\n",
    "    messages = [{\"role\": \"user\", \"content\": prompt}]\n",
    "    prompt = tokenizer.apply_chat_template(messages, add_generation_prompt=True)"
   ]
  },
  {
   "cell_type": "code",
   "execution_count": 27,
   "id": "e8c631b9",
   "metadata": {},
   "outputs": [
    {
     "name": "stdout",
     "output_type": "stream",
     "text": [
      "==========\n",
      "Okay, let's break down how to cook pasta! Here's a comprehensive guide, covering everything from basic to some helpful tips:\n",
      "\n",
      "**1. The Basics - What You Need**\n",
      "\n",
      "* **Pasta:** Choose your favorite shape! (Spaghetti, penne, fusilli, etc.)\n",
      "* **Water:** Lots of it! (About 6 quarts for 1 pound of pasta – this is a general guideline, adjust based on your pot size.)\n",
      "* **Salt:** This is *crucial*. Don't skimp on it! About 1-2 tablespoons per 6 quarts of water.  It seasons the pasta from the inside out.\n",
      "* **Pot:** A large pot is best.  A 6-quart pot is ideal for a large batch of pasta.\n",
      "\n",
      "**2. The Cooking Process - Step-by-Step**\n",
      "\n",
      "1. **Bring Water to a Boil:**  Fill your pot with water and bring it to a rolling boil over high heat.  A vigorous boil is important for proper cooking.\n",
      "\n",
      "2. **Add Salt:** Once the water is boiling, add the salt.  Don't add it *before* the water boils – it will dissipate.  (Think of it like adding\n",
      "==========\n",
      "Prompt: 14 tokens, 419.729 tokens-per-sec\n",
      "Generation: 256 tokens, 122.607 tokens-per-sec\n",
      "Peak memory: 2.125 GB\n"
     ]
    }
   ],
   "source": [
    "response = generate(model, tokenizer, prompt=prompt, verbose=True)"
   ]
  },
  {
   "cell_type": "code",
   "execution_count": 25,
   "id": "59af9deb",
   "metadata": {},
   "outputs": [
    {
     "data": {
      "text/plain": [
       "[2, 105, 2364, 107, 23391, 106, 107, 105, 4368, 107]"
      ]
     },
     "execution_count": 25,
     "metadata": {},
     "output_type": "execute_result"
    }
   ],
   "source": [
    "prompt"
   ]
  },
  {
   "cell_type": "code",
   "execution_count": null,
   "id": "825a1b7b",
   "metadata": {},
   "outputs": [],
   "source": []
  }
 ],
 "metadata": {
  "kernelspec": {
   "display_name": "llm",
   "language": "python",
   "name": "python3"
  },
  "language_info": {
   "codemirror_mode": {
    "name": "ipython",
    "version": 3
   },
   "file_extension": ".py",
   "mimetype": "text/x-python",
   "name": "python",
   "nbconvert_exporter": "python",
   "pygments_lexer": "ipython3",
   "version": "3.10.16"
  }
 },
 "nbformat": 4,
 "nbformat_minor": 5
}
