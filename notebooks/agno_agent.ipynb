{
 "cells": [
  {
   "cell_type": "markdown",
   "id": "f41b4259",
   "metadata": {},
   "source": [
    "# Agent with Agno\n",
    "\n",
    "https://github.com/agno-agi/agno/tree/main/libs/agno/agno/models/huggingface"
   ]
  },
  {
   "cell_type": "code",
   "execution_count": 1,
   "id": "ae539b27",
   "metadata": {},
   "outputs": [
    {
     "name": "stderr",
     "output_type": "stream",
     "text": [
      "/Users/margarito/opt/anaconda3/envs/llm/lib/python3.10/site-packages/tqdm/auto.py:21: TqdmWarning: IProgress not found. Please update jupyter and ipywidgets. See https://ipywidgets.readthedocs.io/en/stable/user_install.html\n",
      "  from .autonotebook import tqdm as notebook_tqdm\n"
     ]
    }
   ],
   "source": [
    "from agno.agent import Agent\n",
    "from agno.tools.reasoning import ReasoningTools\n",
    "from agno.models.huggingface import HuggingFace\n",
    "from agno.models.lmstudio import LMStudio "
   ]
  },
  {
   "cell_type": "code",
   "execution_count": 2,
   "id": "7674a92c",
   "metadata": {},
   "outputs": [],
   "source": [
    "\n",
    "agent = Agent(\n",
    "    model=LMStudio(id=\"llama-3.2-1b-instruct\"),\n",
    "    instructions=[\n",
    "        \"Use tables to display data\",\n",
    "        \"Only output the report, no other text\",\n",
    "    ],\n",
    "    markdown=True,\n",
    ")"
   ]
  },
  {
   "cell_type": "code",
   "execution_count": null,
   "id": "4ee1747d",
   "metadata": {},
   "outputs": [
    {
     "data": {
      "application/vnd.jupyter.widget-view+json": {
       "model_id": "1285cb6ead9f4125ad9d83c1ab9f91c6",
       "version_major": 2,
       "version_minor": 0
      },
      "text/plain": [
       "Output()"
      ]
     },
     "metadata": {},
     "output_type": "display_data"
    }
   ],
   "source": [
    "agent.print_response(\"instructions to make pasta, asdasdasdasda\", stream=True, show_full_reasoning=True, stream_intermediate_steps=True)"
   ]
  },
  {
   "cell_type": "code",
   "execution_count": null,
   "id": "f889177d",
   "metadata": {},
   "outputs": [],
   "source": []
  }
 ],
 "metadata": {
  "kernelspec": {
   "display_name": "llm",
   "language": "python",
   "name": "python3"
  },
  "language_info": {
   "codemirror_mode": {
    "name": "ipython",
    "version": 3
   },
   "file_extension": ".py",
   "mimetype": "text/x-python",
   "name": "python",
   "nbconvert_exporter": "python",
   "pygments_lexer": "ipython3",
   "version": "3.10.16"
  }
 },
 "nbformat": 4,
 "nbformat_minor": 5
}
